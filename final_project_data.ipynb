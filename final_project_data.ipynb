{
 "cells": [
  {
   "cell_type": "code",
   "execution_count": 4,
   "metadata": {},
   "outputs": [
    {
     "name": "stderr",
     "output_type": "stream",
     "text": [
      "/home/cm/anaconda3/lib/python3.6/site-packages/IPython/core/interactiveshell.py:2785: DtypeWarning: Columns (44) have mixed types. Specify dtype option on import or set low_memory=False.\n",
      "  interactivity=interactivity, compiler=compiler, result=result)\n"
     ]
    }
   ],
   "source": [
    "import pandas as pd\n",
    "from pybaseball import *\n",
    "from scipy.stats import pearsonr\n",
    "\n",
    "data = pd.read_csv(\"data.csv\")"
   ]
  },
  {
   "cell_type": "code",
   "execution_count": 5,
   "metadata": {},
   "outputs": [],
   "source": [
    "data = data.loc[data['inning'] <= 9]\n",
    "data = data.drop(data.columns[0], axis=1)"
   ]
  },
  {
   "cell_type": "code",
   "execution_count": 6,
   "metadata": {},
   "outputs": [
    {
     "data": {
      "text/html": [
       "<div>\n",
       "<style scoped>\n",
       "    .dataframe tbody tr th:only-of-type {\n",
       "        vertical-align: middle;\n",
       "    }\n",
       "\n",
       "    .dataframe tbody tr th {\n",
       "        vertical-align: top;\n",
       "    }\n",
       "\n",
       "    .dataframe thead th {\n",
       "        text-align: right;\n",
       "    }\n",
       "</style>\n",
       "<table border=\"1\" class=\"dataframe\">\n",
       "  <thead>\n",
       "    <tr style=\"text-align: right;\">\n",
       "      <th></th>\n",
       "      <th>pitch_type</th>\n",
       "      <th>game_date</th>\n",
       "      <th>release_speed</th>\n",
       "      <th>release_pos_x</th>\n",
       "      <th>release_pos_z</th>\n",
       "      <th>player_name</th>\n",
       "      <th>batter</th>\n",
       "      <th>pitcher</th>\n",
       "      <th>events</th>\n",
       "      <th>description</th>\n",
       "      <th>...</th>\n",
       "      <th>home_score</th>\n",
       "      <th>away_score</th>\n",
       "      <th>bat_score</th>\n",
       "      <th>fld_score</th>\n",
       "      <th>post_away_score</th>\n",
       "      <th>post_home_score</th>\n",
       "      <th>post_bat_score</th>\n",
       "      <th>post_fld_score</th>\n",
       "      <th>if_fielding_alignment</th>\n",
       "      <th>of_fielding_alignment</th>\n",
       "    </tr>\n",
       "  </thead>\n",
       "  <tbody>\n",
       "    <tr>\n",
       "      <th>0</th>\n",
       "      <td>SL</td>\n",
       "      <td>2015-11-01</td>\n",
       "      <td>85.2</td>\n",
       "      <td>-1.8461</td>\n",
       "      <td>6.1603</td>\n",
       "      <td>Kelvin Herrera</td>\n",
       "      <td>518595.0</td>\n",
       "      <td>516969.0</td>\n",
       "      <td>field_out</td>\n",
       "      <td>hit_into_play</td>\n",
       "      <td>...</td>\n",
       "      <td>2.0</td>\n",
       "      <td>2.0</td>\n",
       "      <td>2.0</td>\n",
       "      <td>2.0</td>\n",
       "      <td>2.0</td>\n",
       "      <td>2.0</td>\n",
       "      <td>2.0</td>\n",
       "      <td>2.0</td>\n",
       "      <td>Standard</td>\n",
       "      <td>Standard</td>\n",
       "    </tr>\n",
       "    <tr>\n",
       "      <th>1</th>\n",
       "      <td>FF</td>\n",
       "      <td>2015-11-01</td>\n",
       "      <td>97.7</td>\n",
       "      <td>-1.6600</td>\n",
       "      <td>6.1500</td>\n",
       "      <td>Kelvin Herrera</td>\n",
       "      <td>446263.0</td>\n",
       "      <td>516969.0</td>\n",
       "      <td>field_out</td>\n",
       "      <td>hit_into_play</td>\n",
       "      <td>...</td>\n",
       "      <td>2.0</td>\n",
       "      <td>2.0</td>\n",
       "      <td>2.0</td>\n",
       "      <td>2.0</td>\n",
       "      <td>2.0</td>\n",
       "      <td>2.0</td>\n",
       "      <td>2.0</td>\n",
       "      <td>2.0</td>\n",
       "      <td>Infield shift</td>\n",
       "      <td>Strategic</td>\n",
       "    </tr>\n",
       "    <tr>\n",
       "      <th>2</th>\n",
       "      <td>FT</td>\n",
       "      <td>2015-11-01</td>\n",
       "      <td>96.2</td>\n",
       "      <td>-1.9189</td>\n",
       "      <td>6.1301</td>\n",
       "      <td>Kelvin Herrera</td>\n",
       "      <td>501571.0</td>\n",
       "      <td>516969.0</td>\n",
       "      <td>field_out</td>\n",
       "      <td>hit_into_play</td>\n",
       "      <td>...</td>\n",
       "      <td>2.0</td>\n",
       "      <td>2.0</td>\n",
       "      <td>2.0</td>\n",
       "      <td>2.0</td>\n",
       "      <td>2.0</td>\n",
       "      <td>2.0</td>\n",
       "      <td>2.0</td>\n",
       "      <td>2.0</td>\n",
       "      <td>Standard</td>\n",
       "      <td>Standard</td>\n",
       "    </tr>\n",
       "    <tr>\n",
       "      <th>3</th>\n",
       "      <td>SI</td>\n",
       "      <td>2015-11-01</td>\n",
       "      <td>97.1</td>\n",
       "      <td>-1.1903</td>\n",
       "      <td>6.2683</td>\n",
       "      <td>Jeurys Familia</td>\n",
       "      <td>460086.0</td>\n",
       "      <td>544727.0</td>\n",
       "      <td>field_out</td>\n",
       "      <td>hit_into_play</td>\n",
       "      <td>...</td>\n",
       "      <td>2.0</td>\n",
       "      <td>2.0</td>\n",
       "      <td>2.0</td>\n",
       "      <td>2.0</td>\n",
       "      <td>2.0</td>\n",
       "      <td>2.0</td>\n",
       "      <td>2.0</td>\n",
       "      <td>2.0</td>\n",
       "      <td>Standard</td>\n",
       "      <td>Strategic</td>\n",
       "    </tr>\n",
       "    <tr>\n",
       "      <th>4</th>\n",
       "      <td>SI</td>\n",
       "      <td>2015-11-01</td>\n",
       "      <td>96.7</td>\n",
       "      <td>-1.2267</td>\n",
       "      <td>6.3665</td>\n",
       "      <td>Jeurys Familia</td>\n",
       "      <td>521692.0</td>\n",
       "      <td>544727.0</td>\n",
       "      <td>field_out</td>\n",
       "      <td>hit_into_play_score</td>\n",
       "      <td>...</td>\n",
       "      <td>2.0</td>\n",
       "      <td>1.0</td>\n",
       "      <td>1.0</td>\n",
       "      <td>2.0</td>\n",
       "      <td>1.0</td>\n",
       "      <td>2.0</td>\n",
       "      <td>1.0</td>\n",
       "      <td>2.0</td>\n",
       "      <td>Strategic</td>\n",
       "      <td>Standard</td>\n",
       "    </tr>\n",
       "  </tbody>\n",
       "</table>\n",
       "<p>5 rows × 89 columns</p>\n",
       "</div>"
      ],
      "text/plain": [
       "  pitch_type   game_date  release_speed  release_pos_x  release_pos_z  \\\n",
       "0         SL  2015-11-01           85.2        -1.8461         6.1603   \n",
       "1         FF  2015-11-01           97.7        -1.6600         6.1500   \n",
       "2         FT  2015-11-01           96.2        -1.9189         6.1301   \n",
       "3         SI  2015-11-01           97.1        -1.1903         6.2683   \n",
       "4         SI  2015-11-01           96.7        -1.2267         6.3665   \n",
       "\n",
       "      player_name    batter   pitcher     events          description  \\\n",
       "0  Kelvin Herrera  518595.0  516969.0  field_out        hit_into_play   \n",
       "1  Kelvin Herrera  446263.0  516969.0  field_out        hit_into_play   \n",
       "2  Kelvin Herrera  501571.0  516969.0  field_out        hit_into_play   \n",
       "3  Jeurys Familia  460086.0  544727.0  field_out        hit_into_play   \n",
       "4  Jeurys Familia  521692.0  544727.0  field_out  hit_into_play_score   \n",
       "\n",
       "           ...           home_score  away_score  bat_score  fld_score  \\\n",
       "0          ...                  2.0         2.0        2.0        2.0   \n",
       "1          ...                  2.0         2.0        2.0        2.0   \n",
       "2          ...                  2.0         2.0        2.0        2.0   \n",
       "3          ...                  2.0         2.0        2.0        2.0   \n",
       "4          ...                  2.0         1.0        1.0        2.0   \n",
       "\n",
       "   post_away_score post_home_score post_bat_score post_fld_score  \\\n",
       "0              2.0             2.0            2.0            2.0   \n",
       "1              2.0             2.0            2.0            2.0   \n",
       "2              2.0             2.0            2.0            2.0   \n",
       "3              2.0             2.0            2.0            2.0   \n",
       "4              1.0             2.0            1.0            2.0   \n",
       "\n",
       "  if_fielding_alignment of_fielding_alignment  \n",
       "0              Standard              Standard  \n",
       "1         Infield shift             Strategic  \n",
       "2              Standard              Standard  \n",
       "3              Standard             Strategic  \n",
       "4             Strategic              Standard  \n",
       "\n",
       "[5 rows x 89 columns]"
      ]
     },
     "execution_count": 6,
     "metadata": {},
     "output_type": "execute_result"
    }
   ],
   "source": [
    "data.head()"
   ]
  },
  {
   "cell_type": "code",
   "execution_count": 7,
   "metadata": {},
   "outputs": [
    {
     "data": {
      "text/plain": [
       "array(['field_out', 'double', 'strikeout', 'grounded_into_double_play',\n",
       "       'single', 'field_error', 'force_out', 'home_run', 'double_play',\n",
       "       'strikeout_double_play', 'fielders_choice', 'triple',\n",
       "       'fielders_choice_out', 'catcher_interf', 'other_out',\n",
       "       'triple_play'], dtype=object)"
      ]
     },
     "execution_count": 7,
     "metadata": {},
     "output_type": "execute_result"
    }
   ],
   "source": [
    "data['events'].unique()"
   ]
  },
  {
   "cell_type": "code",
   "execution_count": 8,
   "metadata": {},
   "outputs": [],
   "source": [
    "events = ['field_out', 'double', 'strikeout',\n",
    "       'grounded_into_double_play', 'single', 'field_error',\n",
    "       'force_out', 'home_run', 'double_play', 'strikeout_double_play',\n",
    "       'fielders_choice', 'triple', 'fielders_choice_out', 'catcher_interf', 'other_out', 'triple_play']\n"
   ]
  },
  {
   "cell_type": "code",
   "execution_count": 9,
   "metadata": {},
   "outputs": [],
   "source": [
    "batter = data.groupby(['batter', 'game_year', 'inning']).count()\n",
    "batter = batter[['pitch_type']]"
   ]
  },
  {
   "cell_type": "code",
   "execution_count": 10,
   "metadata": {},
   "outputs": [],
   "source": [
    "batter = batter.reset_index()"
   ]
  },
  {
   "cell_type": "code",
   "execution_count": 11,
   "metadata": {},
   "outputs": [],
   "source": [
    "batter = batter.groupby(['batter', 'game_year']).agg({'pitch_type':'sum'})\n",
    "batter = batter.rename(index=str, columns={\"pitch_type\": \"AB\"})"
   ]
  },
  {
   "cell_type": "code",
   "execution_count": 12,
   "metadata": {
    "scrolled": true
   },
   "outputs": [
    {
     "data": {
      "text/html": [
       "<div>\n",
       "<style scoped>\n",
       "    .dataframe tbody tr th:only-of-type {\n",
       "        vertical-align: middle;\n",
       "    }\n",
       "\n",
       "    .dataframe tbody tr th {\n",
       "        vertical-align: top;\n",
       "    }\n",
       "\n",
       "    .dataframe thead th {\n",
       "        text-align: right;\n",
       "    }\n",
       "</style>\n",
       "<table border=\"1\" class=\"dataframe\">\n",
       "  <thead>\n",
       "    <tr style=\"text-align: right;\">\n",
       "      <th></th>\n",
       "      <th></th>\n",
       "      <th>AB</th>\n",
       "    </tr>\n",
       "    <tr>\n",
       "      <th>batter</th>\n",
       "      <th>game_year</th>\n",
       "      <th></th>\n",
       "    </tr>\n",
       "  </thead>\n",
       "  <tbody>\n",
       "    <tr>\n",
       "      <th rowspan=\"4\" valign=\"top\">112526.0</th>\n",
       "      <th>2015.0</th>\n",
       "      <td>58</td>\n",
       "    </tr>\n",
       "    <tr>\n",
       "      <th>2016.0</th>\n",
       "      <td>60</td>\n",
       "    </tr>\n",
       "    <tr>\n",
       "      <th>2017.0</th>\n",
       "      <td>19</td>\n",
       "    </tr>\n",
       "    <tr>\n",
       "      <th>2018.0</th>\n",
       "      <td>4</td>\n",
       "    </tr>\n",
       "    <tr>\n",
       "      <th>115629.0</th>\n",
       "      <th>2015.0</th>\n",
       "      <td>1</td>\n",
       "    </tr>\n",
       "  </tbody>\n",
       "</table>\n",
       "</div>"
      ],
      "text/plain": [
       "                    AB\n",
       "batter   game_year    \n",
       "112526.0 2015.0     58\n",
       "         2016.0     60\n",
       "         2017.0     19\n",
       "         2018.0      4\n",
       "115629.0 2015.0      1"
      ]
     },
     "execution_count": 12,
     "metadata": {},
     "output_type": "execute_result"
    }
   ],
   "source": [
    "batter.head()"
   ]
  },
  {
   "cell_type": "code",
   "execution_count": 13,
   "metadata": {},
   "outputs": [
    {
     "data": {
      "text/html": [
       "<div>\n",
       "<style scoped>\n",
       "    .dataframe tbody tr th:only-of-type {\n",
       "        vertical-align: middle;\n",
       "    }\n",
       "\n",
       "    .dataframe tbody tr th {\n",
       "        vertical-align: top;\n",
       "    }\n",
       "\n",
       "    .dataframe thead th {\n",
       "        text-align: right;\n",
       "    }\n",
       "</style>\n",
       "<table border=\"1\" class=\"dataframe\">\n",
       "  <thead>\n",
       "    <tr style=\"text-align: right;\">\n",
       "      <th></th>\n",
       "      <th>pitch_type</th>\n",
       "      <th>game_date</th>\n",
       "      <th>release_speed</th>\n",
       "      <th>release_pos_x</th>\n",
       "      <th>release_pos_z</th>\n",
       "      <th>player_name</th>\n",
       "      <th>batter</th>\n",
       "      <th>pitcher</th>\n",
       "      <th>events</th>\n",
       "      <th>description</th>\n",
       "      <th>...</th>\n",
       "      <th>home_score</th>\n",
       "      <th>away_score</th>\n",
       "      <th>bat_score</th>\n",
       "      <th>fld_score</th>\n",
       "      <th>post_away_score</th>\n",
       "      <th>post_home_score</th>\n",
       "      <th>post_bat_score</th>\n",
       "      <th>post_fld_score</th>\n",
       "      <th>if_fielding_alignment</th>\n",
       "      <th>of_fielding_alignment</th>\n",
       "    </tr>\n",
       "  </thead>\n",
       "  <tbody>\n",
       "    <tr>\n",
       "      <th>6</th>\n",
       "      <td>FF</td>\n",
       "      <td>2015-11-01</td>\n",
       "      <td>94.8</td>\n",
       "      <td>-1.3516</td>\n",
       "      <td>6.1937</td>\n",
       "      <td>Matt Harvey</td>\n",
       "      <td>543333.0</td>\n",
       "      <td>518774.0</td>\n",
       "      <td>double</td>\n",
       "      <td>hit_into_play_score</td>\n",
       "      <td>...</td>\n",
       "      <td>2.0</td>\n",
       "      <td>0.0</td>\n",
       "      <td>0.0</td>\n",
       "      <td>2.0</td>\n",
       "      <td>0.0</td>\n",
       "      <td>2.0</td>\n",
       "      <td>0.0</td>\n",
       "      <td>2.0</td>\n",
       "      <td>Standard</td>\n",
       "      <td>Strategic</td>\n",
       "    </tr>\n",
       "    <tr>\n",
       "      <th>15</th>\n",
       "      <td>FF</td>\n",
       "      <td>2015-11-01</td>\n",
       "      <td>97.2</td>\n",
       "      <td>-2.2647</td>\n",
       "      <td>5.9816</td>\n",
       "      <td>Kelvin Herrera</td>\n",
       "      <td>624424.0</td>\n",
       "      <td>516969.0</td>\n",
       "      <td>single</td>\n",
       "      <td>hit_into_play_no_out</td>\n",
       "      <td>...</td>\n",
       "      <td>2.0</td>\n",
       "      <td>0.0</td>\n",
       "      <td>2.0</td>\n",
       "      <td>0.0</td>\n",
       "      <td>0.0</td>\n",
       "      <td>2.0</td>\n",
       "      <td>2.0</td>\n",
       "      <td>0.0</td>\n",
       "      <td>Standard</td>\n",
       "      <td>Standard</td>\n",
       "    </tr>\n",
       "    <tr>\n",
       "      <th>19</th>\n",
       "      <td>FT</td>\n",
       "      <td>2015-11-01</td>\n",
       "      <td>96.3</td>\n",
       "      <td>-1.2401</td>\n",
       "      <td>6.2293</td>\n",
       "      <td>Matt Harvey</td>\n",
       "      <td>519058.0</td>\n",
       "      <td>518774.0</td>\n",
       "      <td>single</td>\n",
       "      <td>hit_into_play_no_out</td>\n",
       "      <td>...</td>\n",
       "      <td>2.0</td>\n",
       "      <td>0.0</td>\n",
       "      <td>0.0</td>\n",
       "      <td>2.0</td>\n",
       "      <td>0.0</td>\n",
       "      <td>2.0</td>\n",
       "      <td>0.0</td>\n",
       "      <td>2.0</td>\n",
       "      <td>Strategic</td>\n",
       "      <td>Standard</td>\n",
       "    </tr>\n",
       "    <tr>\n",
       "      <th>23</th>\n",
       "      <td>SI</td>\n",
       "      <td>2015-11-01</td>\n",
       "      <td>94.6</td>\n",
       "      <td>-1.4083</td>\n",
       "      <td>5.2756</td>\n",
       "      <td>Edinson Volquez</td>\n",
       "      <td>431151.0</td>\n",
       "      <td>450172.0</td>\n",
       "      <td>single</td>\n",
       "      <td>hit_into_play_no_out</td>\n",
       "      <td>...</td>\n",
       "      <td>1.0</td>\n",
       "      <td>0.0</td>\n",
       "      <td>1.0</td>\n",
       "      <td>0.0</td>\n",
       "      <td>0.0</td>\n",
       "      <td>1.0</td>\n",
       "      <td>1.0</td>\n",
       "      <td>0.0</td>\n",
       "      <td>Standard</td>\n",
       "      <td>Standard</td>\n",
       "    </tr>\n",
       "    <tr>\n",
       "      <th>26</th>\n",
       "      <td>SL</td>\n",
       "      <td>2015-11-01</td>\n",
       "      <td>91.8</td>\n",
       "      <td>-1.3545</td>\n",
       "      <td>5.9907</td>\n",
       "      <td>Matt Harvey</td>\n",
       "      <td>450314.0</td>\n",
       "      <td>518774.0</td>\n",
       "      <td>single</td>\n",
       "      <td>hit_into_play_no_out</td>\n",
       "      <td>...</td>\n",
       "      <td>1.0</td>\n",
       "      <td>0.0</td>\n",
       "      <td>0.0</td>\n",
       "      <td>1.0</td>\n",
       "      <td>0.0</td>\n",
       "      <td>1.0</td>\n",
       "      <td>0.0</td>\n",
       "      <td>1.0</td>\n",
       "      <td>Standard</td>\n",
       "      <td>Strategic</td>\n",
       "    </tr>\n",
       "  </tbody>\n",
       "</table>\n",
       "<p>5 rows × 89 columns</p>\n",
       "</div>"
      ],
      "text/plain": [
       "   pitch_type   game_date  release_speed  release_pos_x  release_pos_z  \\\n",
       "6          FF  2015-11-01           94.8        -1.3516         6.1937   \n",
       "15         FF  2015-11-01           97.2        -2.2647         5.9816   \n",
       "19         FT  2015-11-01           96.3        -1.2401         6.2293   \n",
       "23         SI  2015-11-01           94.6        -1.4083         5.2756   \n",
       "26         SL  2015-11-01           91.8        -1.3545         5.9907   \n",
       "\n",
       "        player_name    batter   pitcher  events           description  \\\n",
       "6       Matt Harvey  543333.0  518774.0  double   hit_into_play_score   \n",
       "15   Kelvin Herrera  624424.0  516969.0  single  hit_into_play_no_out   \n",
       "19      Matt Harvey  519058.0  518774.0  single  hit_into_play_no_out   \n",
       "23  Edinson Volquez  431151.0  450172.0  single  hit_into_play_no_out   \n",
       "26      Matt Harvey  450314.0  518774.0  single  hit_into_play_no_out   \n",
       "\n",
       "            ...           home_score  away_score  bat_score  fld_score  \\\n",
       "6           ...                  2.0         0.0        0.0        2.0   \n",
       "15          ...                  2.0         0.0        2.0        0.0   \n",
       "19          ...                  2.0         0.0        0.0        2.0   \n",
       "23          ...                  1.0         0.0        1.0        0.0   \n",
       "26          ...                  1.0         0.0        0.0        1.0   \n",
       "\n",
       "    post_away_score post_home_score post_bat_score post_fld_score  \\\n",
       "6               0.0             2.0            0.0            2.0   \n",
       "15              0.0             2.0            2.0            0.0   \n",
       "19              0.0             2.0            0.0            2.0   \n",
       "23              0.0             1.0            1.0            0.0   \n",
       "26              0.0             1.0            0.0            1.0   \n",
       "\n",
       "   if_fielding_alignment of_fielding_alignment  \n",
       "6               Standard             Strategic  \n",
       "15              Standard              Standard  \n",
       "19             Strategic              Standard  \n",
       "23              Standard              Standard  \n",
       "26              Standard             Strategic  \n",
       "\n",
       "[5 rows x 89 columns]"
      ]
     },
     "execution_count": 13,
     "metadata": {},
     "output_type": "execute_result"
    }
   ],
   "source": [
    "hits_data = data[data['events'].isin(['single', 'double', 'triple', 'home_run'])]\n",
    "hits_data.head()"
   ]
  },
  {
   "cell_type": "code",
   "execution_count": 14,
   "metadata": {},
   "outputs": [],
   "source": [
    "batter_data = hits_data.groupby(['batter', 'game_year', 'inning']).count()\n",
    "batter_data = batter_data[['pitch_type']]\n",
    "batter_data = batter_data.rename(index=str, columns={\"pitch_type\": \"H\"})\n",
    "batter_data = batter_data.reset_index()\n",
    "batter_data['inning'] = batter_data['inning'].astype('Float64')\n",
    "batter_data['WH'] = batter_data['inning']*batter_data['H']\n",
    "batter_data.head()\n",
    "batter_data.to_csv(\"batter_data.csv\", index=False)"
   ]
  },
  {
   "cell_type": "code",
   "execution_count": 15,
   "metadata": {},
   "outputs": [
    {
     "data": {
      "text/html": [
       "<div>\n",
       "<style scoped>\n",
       "    .dataframe tbody tr th:only-of-type {\n",
       "        vertical-align: middle;\n",
       "    }\n",
       "\n",
       "    .dataframe tbody tr th {\n",
       "        vertical-align: top;\n",
       "    }\n",
       "\n",
       "    .dataframe thead th {\n",
       "        text-align: right;\n",
       "    }\n",
       "</style>\n",
       "<table border=\"1\" class=\"dataframe\">\n",
       "  <thead>\n",
       "    <tr style=\"text-align: right;\">\n",
       "      <th></th>\n",
       "      <th></th>\n",
       "      <th>WH</th>\n",
       "    </tr>\n",
       "    <tr>\n",
       "      <th>batter</th>\n",
       "      <th>game_year</th>\n",
       "      <th></th>\n",
       "    </tr>\n",
       "  </thead>\n",
       "  <tbody>\n",
       "    <tr>\n",
       "      <th rowspan=\"2\" valign=\"top\">112526.0</th>\n",
       "      <th>2015.0</th>\n",
       "      <td>35.0</td>\n",
       "    </tr>\n",
       "    <tr>\n",
       "      <th>2016.0</th>\n",
       "      <td>21.0</td>\n",
       "    </tr>\n",
       "    <tr>\n",
       "      <th>116338.0</th>\n",
       "      <th>2015.0</th>\n",
       "      <td>568.0</td>\n",
       "    </tr>\n",
       "    <tr>\n",
       "      <th rowspan=\"2\" valign=\"top\">120074.0</th>\n",
       "      <th>2015.0</th>\n",
       "      <td>602.0</td>\n",
       "    </tr>\n",
       "    <tr>\n",
       "      <th>2016.0</th>\n",
       "      <td>774.0</td>\n",
       "    </tr>\n",
       "  </tbody>\n",
       "</table>\n",
       "</div>"
      ],
      "text/plain": [
       "                       WH\n",
       "batter   game_year       \n",
       "112526.0 2015.0      35.0\n",
       "         2016.0      21.0\n",
       "116338.0 2015.0     568.0\n",
       "120074.0 2015.0     602.0\n",
       "         2016.0     774.0"
      ]
     },
     "execution_count": 15,
     "metadata": {},
     "output_type": "execute_result"
    }
   ],
   "source": [
    "batter_iaba = batter_data.groupby(['batter', 'game_year']).agg({'WH':'sum'})\n",
    "batter_iaba.head()"
   ]
  },
  {
   "cell_type": "code",
   "execution_count": 16,
   "metadata": {},
   "outputs": [],
   "source": [
    "batter = batter.loc[batter['AB'] >= 200]"
   ]
  },
  {
   "cell_type": "code",
   "execution_count": 17,
   "metadata": {},
   "outputs": [],
   "source": [
    "batter_iaba = pd.merge(batter_iaba, batter, on=['batter','game_year'], how='inner')"
   ]
  },
  {
   "cell_type": "code",
   "execution_count": 18,
   "metadata": {},
   "outputs": [
    {
     "data": {
      "text/html": [
       "<div>\n",
       "<style scoped>\n",
       "    .dataframe tbody tr th:only-of-type {\n",
       "        vertical-align: middle;\n",
       "    }\n",
       "\n",
       "    .dataframe tbody tr th {\n",
       "        vertical-align: top;\n",
       "    }\n",
       "\n",
       "    .dataframe thead th {\n",
       "        text-align: right;\n",
       "    }\n",
       "</style>\n",
       "<table border=\"1\" class=\"dataframe\">\n",
       "  <thead>\n",
       "    <tr style=\"text-align: right;\">\n",
       "      <th></th>\n",
       "      <th></th>\n",
       "      <th>WH</th>\n",
       "      <th>AB</th>\n",
       "      <th>IABA</th>\n",
       "    </tr>\n",
       "    <tr>\n",
       "      <th>batter</th>\n",
       "      <th>game_year</th>\n",
       "      <th></th>\n",
       "      <th></th>\n",
       "      <th></th>\n",
       "    </tr>\n",
       "  </thead>\n",
       "  <tbody>\n",
       "    <tr>\n",
       "      <th>116338.0</th>\n",
       "      <th>2015.0</th>\n",
       "      <td>568.0</td>\n",
       "      <td>518</td>\n",
       "      <td>1.096525</td>\n",
       "    </tr>\n",
       "    <tr>\n",
       "      <th rowspan=\"2\" valign=\"top\">120074.0</th>\n",
       "      <th>2015.0</th>\n",
       "      <td>602.0</td>\n",
       "      <td>519</td>\n",
       "      <td>1.159923</td>\n",
       "    </tr>\n",
       "    <tr>\n",
       "      <th>2016.0</th>\n",
       "      <td>774.0</td>\n",
       "      <td>536</td>\n",
       "      <td>1.444030</td>\n",
       "    </tr>\n",
       "    <tr>\n",
       "      <th rowspan=\"2\" valign=\"top\">121347.0</th>\n",
       "      <th>2015.0</th>\n",
       "      <td>602.0</td>\n",
       "      <td>518</td>\n",
       "      <td>1.162162</td>\n",
       "    </tr>\n",
       "    <tr>\n",
       "      <th>2016.0</th>\n",
       "      <td>198.0</td>\n",
       "      <td>224</td>\n",
       "      <td>0.883929</td>\n",
       "    </tr>\n",
       "  </tbody>\n",
       "</table>\n",
       "</div>"
      ],
      "text/plain": [
       "                       WH   AB      IABA\n",
       "batter   game_year                      \n",
       "116338.0 2015.0     568.0  518  1.096525\n",
       "120074.0 2015.0     602.0  519  1.159923\n",
       "         2016.0     774.0  536  1.444030\n",
       "121347.0 2015.0     602.0  518  1.162162\n",
       "         2016.0     198.0  224  0.883929"
      ]
     },
     "execution_count": 18,
     "metadata": {},
     "output_type": "execute_result"
    }
   ],
   "source": [
    "batter_iaba['IABA'] = batter_iaba['WH']/batter_iaba['AB']\n",
    "batter_iaba.head()"
   ]
  },
  {
   "cell_type": "code",
   "execution_count": 19,
   "metadata": {},
   "outputs": [
    {
     "data": {
      "text/plain": [
       "Index(['pitch_type', 'game_date', 'release_speed', 'release_pos_x',\n",
       "       'release_pos_z', 'player_name', 'batter', 'pitcher', 'events',\n",
       "       'description', 'spin_dir', 'spin_rate_deprecated',\n",
       "       'break_angle_deprecated', 'break_length_deprecated', 'zone', 'des',\n",
       "       'game_type', 'stand', 'p_throws', 'home_team', 'away_team', 'type',\n",
       "       'hit_location', 'bb_type', 'balls', 'strikes', 'game_year', 'pfx_x',\n",
       "       'pfx_z', 'plate_x', 'plate_z', 'on_3b', 'on_2b', 'on_1b',\n",
       "       'outs_when_up', 'inning', 'inning_topbot', 'hc_x', 'hc_y',\n",
       "       'tfs_deprecated', 'tfs_zulu_deprecated', 'fielder_2', 'umpire', 'sv_id',\n",
       "       'vx0', 'vy0', 'vz0', 'ax', 'ay', 'az', 'sz_top', 'sz_bot',\n",
       "       'hit_distance_sc', 'launch_speed', 'launch_angle', 'effective_speed',\n",
       "       'release_spin_rate', 'release_extension', 'game_pk', 'pitcher.1',\n",
       "       'fielder_2.1', 'fielder_3', 'fielder_4', 'fielder_5', 'fielder_6',\n",
       "       'fielder_7', 'fielder_8', 'fielder_9', 'release_pos_y',\n",
       "       'estimated_ba_using_speedangle', 'estimated_woba_using_speedangle',\n",
       "       'woba_value', 'woba_denom', 'babip_value', 'iso_value',\n",
       "       'launch_speed_angle', 'at_bat_number', 'pitch_number', 'pitch_name',\n",
       "       'home_score', 'away_score', 'bat_score', 'fld_score', 'post_away_score',\n",
       "       'post_home_score', 'post_bat_score', 'post_fld_score',\n",
       "       'if_fielding_alignment', 'of_fielding_alignment'],\n",
       "      dtype='object')"
      ]
     },
     "execution_count": 19,
     "metadata": {},
     "output_type": "execute_result"
    }
   ],
   "source": [
    "data.columns"
   ]
  },
  {
   "cell_type": "code",
   "execution_count": 20,
   "metadata": {},
   "outputs": [
    {
     "name": "stderr",
     "output_type": "stream",
     "text": [
      "/home/cm/anaconda3/lib/python3.6/site-packages/ipykernel_launcher.py:3: SettingWithCopyWarning: \n",
      "A value is trying to be set on a copy of a slice from a DataFrame.\n",
      "Try using .loc[row_indexer,col_indexer] = value instead\n",
      "\n",
      "See the caveats in the documentation: http://pandas.pydata.org/pandas-docs/stable/indexing.html#indexing-view-versus-copy\n",
      "  This is separate from the ipykernel package so we can avoid doing imports until\n",
      "/home/cm/anaconda3/lib/python3.6/site-packages/ipykernel_launcher.py:5: SettingWithCopyWarning: \n",
      "A value is trying to be set on a copy of a slice from a DataFrame.\n",
      "Try using .loc[row_indexer,col_indexer] = value instead\n",
      "\n",
      "See the caveats in the documentation: http://pandas.pydata.org/pandas-docs/stable/indexing.html#indexing-view-versus-copy\n",
      "  \"\"\"\n"
     ]
    }
   ],
   "source": [
    "batter_team = data[['batter', 'inning_topbot', 'home_team', 'away_team', 'game_year']]\n",
    "home_team = batter_team[batter_team['inning_topbot'] == \"Bot\"]\n",
    "home_team[\"team\"] = home_team['home_team']\n",
    "away_team = batter_team[batter_team['inning_topbot'] == \"Top\"]\n",
    "away_team[\"team\"] = away_team['away_team']"
   ]
  },
  {
   "cell_type": "code",
   "execution_count": 21,
   "metadata": {},
   "outputs": [],
   "source": [
    "batter_team = pd.concat([home_team, away_team])"
   ]
  },
  {
   "cell_type": "code",
   "execution_count": 22,
   "metadata": {},
   "outputs": [
    {
     "data": {
      "text/html": [
       "<div>\n",
       "<style scoped>\n",
       "    .dataframe tbody tr th:only-of-type {\n",
       "        vertical-align: middle;\n",
       "    }\n",
       "\n",
       "    .dataframe tbody tr th {\n",
       "        vertical-align: top;\n",
       "    }\n",
       "\n",
       "    .dataframe thead th {\n",
       "        text-align: right;\n",
       "    }\n",
       "</style>\n",
       "<table border=\"1\" class=\"dataframe\">\n",
       "  <thead>\n",
       "    <tr style=\"text-align: right;\">\n",
       "      <th></th>\n",
       "      <th>batter</th>\n",
       "      <th>inning_topbot</th>\n",
       "      <th>home_team</th>\n",
       "      <th>away_team</th>\n",
       "      <th>game_year</th>\n",
       "      <th>team</th>\n",
       "    </tr>\n",
       "  </thead>\n",
       "  <tbody>\n",
       "    <tr>\n",
       "      <th>0</th>\n",
       "      <td>518595.0</td>\n",
       "      <td>Bot</td>\n",
       "      <td>NYM</td>\n",
       "      <td>KC</td>\n",
       "      <td>2015.0</td>\n",
       "      <td>NYM</td>\n",
       "    </tr>\n",
       "    <tr>\n",
       "      <th>1</th>\n",
       "      <td>446263.0</td>\n",
       "      <td>Bot</td>\n",
       "      <td>NYM</td>\n",
       "      <td>KC</td>\n",
       "      <td>2015.0</td>\n",
       "      <td>NYM</td>\n",
       "    </tr>\n",
       "    <tr>\n",
       "      <th>2</th>\n",
       "      <td>501571.0</td>\n",
       "      <td>Bot</td>\n",
       "      <td>NYM</td>\n",
       "      <td>KC</td>\n",
       "      <td>2015.0</td>\n",
       "      <td>NYM</td>\n",
       "    </tr>\n",
       "    <tr>\n",
       "      <th>7</th>\n",
       "      <td>502517.0</td>\n",
       "      <td>Bot</td>\n",
       "      <td>NYM</td>\n",
       "      <td>KC</td>\n",
       "      <td>2015.0</td>\n",
       "      <td>NYM</td>\n",
       "    </tr>\n",
       "    <tr>\n",
       "      <th>8</th>\n",
       "      <td>431151.0</td>\n",
       "      <td>Bot</td>\n",
       "      <td>NYM</td>\n",
       "      <td>KC</td>\n",
       "      <td>2015.0</td>\n",
       "      <td>NYM</td>\n",
       "    </tr>\n",
       "  </tbody>\n",
       "</table>\n",
       "</div>"
      ],
      "text/plain": [
       "     batter inning_topbot home_team away_team  game_year team\n",
       "0  518595.0           Bot       NYM        KC     2015.0  NYM\n",
       "1  446263.0           Bot       NYM        KC     2015.0  NYM\n",
       "2  501571.0           Bot       NYM        KC     2015.0  NYM\n",
       "7  502517.0           Bot       NYM        KC     2015.0  NYM\n",
       "8  431151.0           Bot       NYM        KC     2015.0  NYM"
      ]
     },
     "execution_count": 22,
     "metadata": {},
     "output_type": "execute_result"
    }
   ],
   "source": [
    "batter_team.head()"
   ]
  },
  {
   "cell_type": "code",
   "execution_count": 23,
   "metadata": {},
   "outputs": [],
   "source": [
    "batter_iaba_with_team = batter_iaba.reset_index()\n",
    "batter_iaba_with_team['game_year'] = batter_iaba_with_team['game_year'].astype('Float64')\n",
    "batter_iaba_with_team['batter'] = batter_iaba_with_team['batter'].astype('Float64')\n",
    "batter_iaba_with_team = pd.merge(batter_iaba_with_team, batter_team[['batter', 'game_year', 'team']], on=['batter', 'game_year'], how='inner')"
   ]
  },
  {
   "cell_type": "code",
   "execution_count": 24,
   "metadata": {},
   "outputs": [
    {
     "data": {
      "text/html": [
       "<div>\n",
       "<style scoped>\n",
       "    .dataframe tbody tr th:only-of-type {\n",
       "        vertical-align: middle;\n",
       "    }\n",
       "\n",
       "    .dataframe tbody tr th {\n",
       "        vertical-align: top;\n",
       "    }\n",
       "\n",
       "    .dataframe thead th {\n",
       "        text-align: right;\n",
       "    }\n",
       "</style>\n",
       "<table border=\"1\" class=\"dataframe\">\n",
       "  <thead>\n",
       "    <tr style=\"text-align: right;\">\n",
       "      <th></th>\n",
       "      <th>batter</th>\n",
       "      <th>game_year</th>\n",
       "      <th>WH</th>\n",
       "      <th>AB</th>\n",
       "      <th>IABA</th>\n",
       "      <th>team</th>\n",
       "    </tr>\n",
       "  </thead>\n",
       "  <tbody>\n",
       "    <tr>\n",
       "      <th>0</th>\n",
       "      <td>116338.0</td>\n",
       "      <td>2015.0</td>\n",
       "      <td>568.0</td>\n",
       "      <td>518</td>\n",
       "      <td>1.096525</td>\n",
       "      <td>MIN</td>\n",
       "    </tr>\n",
       "    <tr>\n",
       "      <th>1</th>\n",
       "      <td>116338.0</td>\n",
       "      <td>2015.0</td>\n",
       "      <td>568.0</td>\n",
       "      <td>518</td>\n",
       "      <td>1.096525</td>\n",
       "      <td>MIN</td>\n",
       "    </tr>\n",
       "    <tr>\n",
       "      <th>2</th>\n",
       "      <td>116338.0</td>\n",
       "      <td>2015.0</td>\n",
       "      <td>568.0</td>\n",
       "      <td>518</td>\n",
       "      <td>1.096525</td>\n",
       "      <td>MIN</td>\n",
       "    </tr>\n",
       "    <tr>\n",
       "      <th>3</th>\n",
       "      <td>116338.0</td>\n",
       "      <td>2015.0</td>\n",
       "      <td>568.0</td>\n",
       "      <td>518</td>\n",
       "      <td>1.096525</td>\n",
       "      <td>MIN</td>\n",
       "    </tr>\n",
       "    <tr>\n",
       "      <th>4</th>\n",
       "      <td>116338.0</td>\n",
       "      <td>2015.0</td>\n",
       "      <td>568.0</td>\n",
       "      <td>518</td>\n",
       "      <td>1.096525</td>\n",
       "      <td>MIN</td>\n",
       "    </tr>\n",
       "  </tbody>\n",
       "</table>\n",
       "</div>"
      ],
      "text/plain": [
       "     batter  game_year     WH   AB      IABA team\n",
       "0  116338.0     2015.0  568.0  518  1.096525  MIN\n",
       "1  116338.0     2015.0  568.0  518  1.096525  MIN\n",
       "2  116338.0     2015.0  568.0  518  1.096525  MIN\n",
       "3  116338.0     2015.0  568.0  518  1.096525  MIN\n",
       "4  116338.0     2015.0  568.0  518  1.096525  MIN"
      ]
     },
     "execution_count": 24,
     "metadata": {},
     "output_type": "execute_result"
    }
   ],
   "source": [
    "# batter_iaba_with_team = batter_iaba_with_team.groupby(['batter', 'game_year'])\n",
    "batter_iaba_with_team.head()"
   ]
  },
  {
   "cell_type": "code",
   "execution_count": 25,
   "metadata": {},
   "outputs": [],
   "source": [
    "#df = batter_iaba_with_team.to_csv(\"iaba_with_team.csv\")"
   ]
  },
  {
   "cell_type": "code",
   "execution_count": 27,
   "metadata": {},
   "outputs": [],
   "source": [
    "teams = pd.read_csv('Teams.csv')"
   ]
  },
  {
   "cell_type": "code",
   "execution_count": 28,
   "metadata": {},
   "outputs": [
    {
     "data": {
      "text/html": [
       "<div>\n",
       "<style scoped>\n",
       "    .dataframe tbody tr th:only-of-type {\n",
       "        vertical-align: middle;\n",
       "    }\n",
       "\n",
       "    .dataframe tbody tr th {\n",
       "        vertical-align: top;\n",
       "    }\n",
       "\n",
       "    .dataframe thead th {\n",
       "        text-align: right;\n",
       "    }\n",
       "</style>\n",
       "<table border=\"1\" class=\"dataframe\">\n",
       "  <thead>\n",
       "    <tr style=\"text-align: right;\">\n",
       "      <th></th>\n",
       "      <th>yearID</th>\n",
       "      <th>teamID</th>\n",
       "      <th>G</th>\n",
       "      <th>W</th>\n",
       "      <th>L</th>\n",
       "      <th>R</th>\n",
       "      <th>AB</th>\n",
       "      <th>H</th>\n",
       "      <th>BB</th>\n",
       "      <th>HBP</th>\n",
       "      <th>BA</th>\n",
       "      <th>OBP</th>\n",
       "    </tr>\n",
       "  </thead>\n",
       "  <tbody>\n",
       "    <tr>\n",
       "      <th>2775</th>\n",
       "      <td>2015</td>\n",
       "      <td>ARI</td>\n",
       "      <td>162</td>\n",
       "      <td>79</td>\n",
       "      <td>83</td>\n",
       "      <td>720</td>\n",
       "      <td>5649</td>\n",
       "      <td>1494</td>\n",
       "      <td>490.0</td>\n",
       "      <td>33.0</td>\n",
       "      <td>0.264472</td>\n",
       "      <td>0.326798</td>\n",
       "    </tr>\n",
       "    <tr>\n",
       "      <th>2776</th>\n",
       "      <td>2015</td>\n",
       "      <td>ATL</td>\n",
       "      <td>162</td>\n",
       "      <td>67</td>\n",
       "      <td>95</td>\n",
       "      <td>573</td>\n",
       "      <td>5420</td>\n",
       "      <td>1361</td>\n",
       "      <td>471.0</td>\n",
       "      <td>44.0</td>\n",
       "      <td>0.251107</td>\n",
       "      <td>0.316091</td>\n",
       "    </tr>\n",
       "    <tr>\n",
       "      <th>2777</th>\n",
       "      <td>2015</td>\n",
       "      <td>BAL</td>\n",
       "      <td>162</td>\n",
       "      <td>81</td>\n",
       "      <td>81</td>\n",
       "      <td>713</td>\n",
       "      <td>5485</td>\n",
       "      <td>1370</td>\n",
       "      <td>418.0</td>\n",
       "      <td>51.0</td>\n",
       "      <td>0.249772</td>\n",
       "      <td>0.308868</td>\n",
       "    </tr>\n",
       "    <tr>\n",
       "      <th>2778</th>\n",
       "      <td>2015</td>\n",
       "      <td>BOS</td>\n",
       "      <td>162</td>\n",
       "      <td>78</td>\n",
       "      <td>84</td>\n",
       "      <td>748</td>\n",
       "      <td>5640</td>\n",
       "      <td>1495</td>\n",
       "      <td>478.0</td>\n",
       "      <td>46.0</td>\n",
       "      <td>0.265071</td>\n",
       "      <td>0.327547</td>\n",
       "    </tr>\n",
       "    <tr>\n",
       "      <th>2779</th>\n",
       "      <td>2015</td>\n",
       "      <td>CHA</td>\n",
       "      <td>162</td>\n",
       "      <td>76</td>\n",
       "      <td>86</td>\n",
       "      <td>622</td>\n",
       "      <td>5533</td>\n",
       "      <td>1381</td>\n",
       "      <td>404.0</td>\n",
       "      <td>65.0</td>\n",
       "      <td>0.249593</td>\n",
       "      <td>0.308231</td>\n",
       "    </tr>\n",
       "  </tbody>\n",
       "</table>\n",
       "</div>"
      ],
      "text/plain": [
       "      yearID teamID    G   W   L    R    AB     H     BB   HBP        BA  \\\n",
       "2775    2015    ARI  162  79  83  720  5649  1494  490.0  33.0  0.264472   \n",
       "2776    2015    ATL  162  67  95  573  5420  1361  471.0  44.0  0.251107   \n",
       "2777    2015    BAL  162  81  81  713  5485  1370  418.0  51.0  0.249772   \n",
       "2778    2015    BOS  162  78  84  748  5640  1495  478.0  46.0  0.265071   \n",
       "2779    2015    CHA  162  76  86  622  5533  1381  404.0  65.0  0.249593   \n",
       "\n",
       "           OBP  \n",
       "2775  0.326798  \n",
       "2776  0.316091  \n",
       "2777  0.308868  \n",
       "2778  0.327547  \n",
       "2779  0.308231  "
      ]
     },
     "execution_count": 28,
     "metadata": {},
     "output_type": "execute_result"
    }
   ],
   "source": [
    "teams = teams.loc[teams['yearID'] >= 2015]\n",
    "teams = teams[['yearID', 'teamID',  'G', 'W', 'L', 'R', 'AB', 'H', 'BB', 'HBP']]\n",
    "teams['BA'] = teams['H']/teams['AB']\n",
    "teams['OBP'] = (teams['H']+teams['BB']+teams['HBP'])/(teams['AB']+teams['BB']+teams['HBP'])\n",
    "teams.head()"
   ]
  },
  {
   "cell_type": "code",
   "execution_count": 29,
   "metadata": {},
   "outputs": [],
   "source": [
    "lahman_batter = pd.read_csv('Batting.csv')\n",
    "lahman_batter = lahman_batter.loc[(lahman_batter['yearID'] >= 2015) & (lahman_batter['AB'] >= 10)]"
   ]
  },
  {
   "cell_type": "code",
   "execution_count": 30,
   "metadata": {},
   "outputs": [],
   "source": [
    "lahman_batter = lahman_batter[['playerID', 'yearID', 'teamID', 'G', 'AB', 'R', 'H', 'RBI', 'BB', 'HBP', '2B', '3B','HR']]\n",
    "lahman_batter['BA'] = lahman_batter['H']/lahman_batter['AB']\n",
    "lahman_batter['OBP'] = (lahman_batter['H']+lahman_batter['BB']+lahman_batter['HBP'])/(lahman_batter['AB']+lahman_batter['BB']+lahman_batter['HBP'])"
   ]
  },
  {
   "cell_type": "code",
   "execution_count": 31,
   "metadata": {},
   "outputs": [
    {
     "name": "stdout",
     "output_type": "stream",
     "text": [
      "Gathering player lookup table. This may take a moment.\n"
     ]
    }
   ],
   "source": [
    "ids = playerid_reverse_lookup(lahman_batter['playerID'], \"bbref\")[['key_mlbam', 'key_bbref']]"
   ]
  },
  {
   "cell_type": "code",
   "execution_count": 32,
   "metadata": {},
   "outputs": [
    {
     "data": {
      "text/html": [
       "<div>\n",
       "<style scoped>\n",
       "    .dataframe tbody tr th:only-of-type {\n",
       "        vertical-align: middle;\n",
       "    }\n",
       "\n",
       "    .dataframe tbody tr th {\n",
       "        vertical-align: top;\n",
       "    }\n",
       "\n",
       "    .dataframe thead th {\n",
       "        text-align: right;\n",
       "    }\n",
       "</style>\n",
       "<table border=\"1\" class=\"dataframe\">\n",
       "  <thead>\n",
       "    <tr style=\"text-align: right;\">\n",
       "      <th></th>\n",
       "      <th>batter</th>\n",
       "      <th>playerID</th>\n",
       "    </tr>\n",
       "  </thead>\n",
       "  <tbody>\n",
       "    <tr>\n",
       "      <th>0</th>\n",
       "      <td>547989</td>\n",
       "      <td>abreujo02</td>\n",
       "    </tr>\n",
       "    <tr>\n",
       "      <th>1</th>\n",
       "      <td>554429</td>\n",
       "      <td>ackledu01</td>\n",
       "    </tr>\n",
       "    <tr>\n",
       "      <th>2</th>\n",
       "      <td>660670</td>\n",
       "      <td>acunaro01</td>\n",
       "    </tr>\n",
       "    <tr>\n",
       "      <th>3</th>\n",
       "      <td>542436</td>\n",
       "      <td>adamecr01</td>\n",
       "    </tr>\n",
       "    <tr>\n",
       "      <th>4</th>\n",
       "      <td>642715</td>\n",
       "      <td>adamewi01</td>\n",
       "    </tr>\n",
       "  </tbody>\n",
       "</table>\n",
       "</div>"
      ],
      "text/plain": [
       "   batter   playerID\n",
       "0  547989  abreujo02\n",
       "1  554429  ackledu01\n",
       "2  660670  acunaro01\n",
       "3  542436  adamecr01\n",
       "4  642715  adamewi01"
      ]
     },
     "execution_count": 32,
     "metadata": {},
     "output_type": "execute_result"
    }
   ],
   "source": [
    "ids = ids.rename(index=str, columns={\"key_bbref\": \"playerID\", \"key_mlbam\":\"batter\"})\n",
    "ids.head()"
   ]
  },
  {
   "cell_type": "code",
   "execution_count": 33,
   "metadata": {},
   "outputs": [
    {
     "data": {
      "text/html": [
       "<div>\n",
       "<style scoped>\n",
       "    .dataframe tbody tr th:only-of-type {\n",
       "        vertical-align: middle;\n",
       "    }\n",
       "\n",
       "    .dataframe tbody tr th {\n",
       "        vertical-align: top;\n",
       "    }\n",
       "\n",
       "    .dataframe thead th {\n",
       "        text-align: right;\n",
       "    }\n",
       "</style>\n",
       "<table border=\"1\" class=\"dataframe\">\n",
       "  <thead>\n",
       "    <tr style=\"text-align: right;\">\n",
       "      <th></th>\n",
       "      <th>batter</th>\n",
       "      <th>yearID</th>\n",
       "      <th>WH</th>\n",
       "      <th>AB</th>\n",
       "      <th>IABA</th>\n",
       "      <th>team</th>\n",
       "    </tr>\n",
       "  </thead>\n",
       "  <tbody>\n",
       "    <tr>\n",
       "      <th>0</th>\n",
       "      <td>116338.0</td>\n",
       "      <td>2015.0</td>\n",
       "      <td>568.0</td>\n",
       "      <td>518</td>\n",
       "      <td>1.096525</td>\n",
       "      <td>MIN</td>\n",
       "    </tr>\n",
       "    <tr>\n",
       "      <th>1</th>\n",
       "      <td>120074.0</td>\n",
       "      <td>2015.0</td>\n",
       "      <td>602.0</td>\n",
       "      <td>519</td>\n",
       "      <td>1.159923</td>\n",
       "      <td>BOS</td>\n",
       "    </tr>\n",
       "    <tr>\n",
       "      <th>2</th>\n",
       "      <td>120074.0</td>\n",
       "      <td>2016.0</td>\n",
       "      <td>774.0</td>\n",
       "      <td>536</td>\n",
       "      <td>1.444030</td>\n",
       "      <td>BOS</td>\n",
       "    </tr>\n",
       "    <tr>\n",
       "      <th>3</th>\n",
       "      <td>121347.0</td>\n",
       "      <td>2015.0</td>\n",
       "      <td>602.0</td>\n",
       "      <td>518</td>\n",
       "      <td>1.162162</td>\n",
       "      <td>NYY</td>\n",
       "    </tr>\n",
       "    <tr>\n",
       "      <th>4</th>\n",
       "      <td>121347.0</td>\n",
       "      <td>2016.0</td>\n",
       "      <td>198.0</td>\n",
       "      <td>224</td>\n",
       "      <td>0.883929</td>\n",
       "      <td>NYY</td>\n",
       "    </tr>\n",
       "  </tbody>\n",
       "</table>\n",
       "</div>"
      ],
      "text/plain": [
       "     batter  yearID     WH   AB      IABA team\n",
       "0  116338.0  2015.0  568.0  518  1.096525  MIN\n",
       "1  120074.0  2015.0  602.0  519  1.159923  BOS\n",
       "2  120074.0  2016.0  774.0  536  1.444030  BOS\n",
       "3  121347.0  2015.0  602.0  518  1.162162  NYY\n",
       "4  121347.0  2016.0  198.0  224  0.883929  NYY"
      ]
     },
     "execution_count": 33,
     "metadata": {},
     "output_type": "execute_result"
    }
   ],
   "source": [
    "unique = batter_iaba_with_team.drop_duplicates().reset_index()\n",
    "unique = unique.drop(axis=1, columns=['index'])\n",
    "unique = unique.rename(index=str, columns={\"game_year\": \"yearID\"})\n",
    "unique.head()"
   ]
  },
  {
   "cell_type": "code",
   "execution_count": 34,
   "metadata": {},
   "outputs": [
    {
     "data": {
      "text/html": [
       "<div>\n",
       "<style scoped>\n",
       "    .dataframe tbody tr th:only-of-type {\n",
       "        vertical-align: middle;\n",
       "    }\n",
       "\n",
       "    .dataframe tbody tr th {\n",
       "        vertical-align: top;\n",
       "    }\n",
       "\n",
       "    .dataframe thead th {\n",
       "        text-align: right;\n",
       "    }\n",
       "</style>\n",
       "<table border=\"1\" class=\"dataframe\">\n",
       "  <thead>\n",
       "    <tr style=\"text-align: right;\">\n",
       "      <th></th>\n",
       "      <th>playerID</th>\n",
       "      <th>yearID</th>\n",
       "      <th>teamID</th>\n",
       "      <th>G</th>\n",
       "      <th>AB</th>\n",
       "      <th>R</th>\n",
       "      <th>H</th>\n",
       "      <th>RBI</th>\n",
       "      <th>BB</th>\n",
       "      <th>HBP</th>\n",
       "      <th>2B</th>\n",
       "      <th>3B</th>\n",
       "      <th>HR</th>\n",
       "      <th>BA</th>\n",
       "      <th>OBP</th>\n",
       "      <th>batter</th>\n",
       "    </tr>\n",
       "  </thead>\n",
       "  <tbody>\n",
       "    <tr>\n",
       "      <th>0</th>\n",
       "      <td>abreujo02</td>\n",
       "      <td>2015</td>\n",
       "      <td>CHA</td>\n",
       "      <td>154</td>\n",
       "      <td>613</td>\n",
       "      <td>88</td>\n",
       "      <td>178</td>\n",
       "      <td>101.0</td>\n",
       "      <td>39</td>\n",
       "      <td>15.0</td>\n",
       "      <td>34</td>\n",
       "      <td>3</td>\n",
       "      <td>30</td>\n",
       "      <td>0.290375</td>\n",
       "      <td>0.347826</td>\n",
       "      <td>547989</td>\n",
       "    </tr>\n",
       "    <tr>\n",
       "      <th>1</th>\n",
       "      <td>abreujo02</td>\n",
       "      <td>2016</td>\n",
       "      <td>CHA</td>\n",
       "      <td>159</td>\n",
       "      <td>624</td>\n",
       "      <td>67</td>\n",
       "      <td>183</td>\n",
       "      <td>100.0</td>\n",
       "      <td>47</td>\n",
       "      <td>15.0</td>\n",
       "      <td>32</td>\n",
       "      <td>1</td>\n",
       "      <td>25</td>\n",
       "      <td>0.293269</td>\n",
       "      <td>0.357143</td>\n",
       "      <td>547989</td>\n",
       "    </tr>\n",
       "    <tr>\n",
       "      <th>2</th>\n",
       "      <td>abreujo02</td>\n",
       "      <td>2017</td>\n",
       "      <td>CHA</td>\n",
       "      <td>156</td>\n",
       "      <td>621</td>\n",
       "      <td>95</td>\n",
       "      <td>189</td>\n",
       "      <td>102.0</td>\n",
       "      <td>35</td>\n",
       "      <td>15.0</td>\n",
       "      <td>43</td>\n",
       "      <td>6</td>\n",
       "      <td>33</td>\n",
       "      <td>0.304348</td>\n",
       "      <td>0.356185</td>\n",
       "      <td>547989</td>\n",
       "    </tr>\n",
       "    <tr>\n",
       "      <th>3</th>\n",
       "      <td>abreujo02</td>\n",
       "      <td>2018</td>\n",
       "      <td>CHA</td>\n",
       "      <td>128</td>\n",
       "      <td>499</td>\n",
       "      <td>68</td>\n",
       "      <td>132</td>\n",
       "      <td>78.0</td>\n",
       "      <td>37</td>\n",
       "      <td>11.0</td>\n",
       "      <td>36</td>\n",
       "      <td>1</td>\n",
       "      <td>22</td>\n",
       "      <td>0.264529</td>\n",
       "      <td>0.329068</td>\n",
       "      <td>547989</td>\n",
       "    </tr>\n",
       "    <tr>\n",
       "      <th>4</th>\n",
       "      <td>ackledu01</td>\n",
       "      <td>2015</td>\n",
       "      <td>SEA</td>\n",
       "      <td>85</td>\n",
       "      <td>186</td>\n",
       "      <td>22</td>\n",
       "      <td>40</td>\n",
       "      <td>19.0</td>\n",
       "      <td>14</td>\n",
       "      <td>1.0</td>\n",
       "      <td>8</td>\n",
       "      <td>1</td>\n",
       "      <td>6</td>\n",
       "      <td>0.215054</td>\n",
       "      <td>0.273632</td>\n",
       "      <td>554429</td>\n",
       "    </tr>\n",
       "  </tbody>\n",
       "</table>\n",
       "</div>"
      ],
      "text/plain": [
       "    playerID  yearID teamID    G   AB   R    H    RBI  BB   HBP  2B  3B  HR  \\\n",
       "0  abreujo02    2015    CHA  154  613  88  178  101.0  39  15.0  34   3  30   \n",
       "1  abreujo02    2016    CHA  159  624  67  183  100.0  47  15.0  32   1  25   \n",
       "2  abreujo02    2017    CHA  156  621  95  189  102.0  35  15.0  43   6  33   \n",
       "3  abreujo02    2018    CHA  128  499  68  132   78.0  37  11.0  36   1  22   \n",
       "4  ackledu01    2015    SEA   85  186  22   40   19.0  14   1.0   8   1   6   \n",
       "\n",
       "         BA       OBP  batter  \n",
       "0  0.290375  0.347826  547989  \n",
       "1  0.293269  0.357143  547989  \n",
       "2  0.304348  0.356185  547989  \n",
       "3  0.264529  0.329068  547989  \n",
       "4  0.215054  0.273632  554429  "
      ]
     },
     "execution_count": 34,
     "metadata": {},
     "output_type": "execute_result"
    }
   ],
   "source": [
    "b = pd.merge(lahman_batter, ids, on='playerID', how='inner')\n",
    "b.head()"
   ]
  },
  {
   "cell_type": "code",
   "execution_count": 35,
   "metadata": {},
   "outputs": [
    {
     "data": {
      "text/html": [
       "<div>\n",
       "<style scoped>\n",
       "    .dataframe tbody tr th:only-of-type {\n",
       "        vertical-align: middle;\n",
       "    }\n",
       "\n",
       "    .dataframe tbody tr th {\n",
       "        vertical-align: top;\n",
       "    }\n",
       "\n",
       "    .dataframe thead th {\n",
       "        text-align: right;\n",
       "    }\n",
       "</style>\n",
       "<table border=\"1\" class=\"dataframe\">\n",
       "  <thead>\n",
       "    <tr style=\"text-align: right;\">\n",
       "      <th></th>\n",
       "      <th>playerID</th>\n",
       "      <th>yearID</th>\n",
       "      <th>teamID</th>\n",
       "      <th>G</th>\n",
       "      <th>AB</th>\n",
       "      <th>R</th>\n",
       "      <th>H</th>\n",
       "      <th>RBI</th>\n",
       "      <th>BB</th>\n",
       "      <th>HBP</th>\n",
       "      <th>2B</th>\n",
       "      <th>3B</th>\n",
       "      <th>HR</th>\n",
       "      <th>BA</th>\n",
       "      <th>OBP</th>\n",
       "      <th>batter</th>\n",
       "      <th>WH</th>\n",
       "      <th>AB_1-9</th>\n",
       "      <th>IABA</th>\n",
       "      <th>team</th>\n",
       "    </tr>\n",
       "  </thead>\n",
       "  <tbody>\n",
       "    <tr>\n",
       "      <th>0</th>\n",
       "      <td>abreujo02</td>\n",
       "      <td>2015</td>\n",
       "      <td>CHA</td>\n",
       "      <td>154</td>\n",
       "      <td>613</td>\n",
       "      <td>88</td>\n",
       "      <td>178</td>\n",
       "      <td>101.0</td>\n",
       "      <td>39</td>\n",
       "      <td>15.0</td>\n",
       "      <td>34</td>\n",
       "      <td>3</td>\n",
       "      <td>30</td>\n",
       "      <td>0.290375</td>\n",
       "      <td>0.347826</td>\n",
       "      <td>547989</td>\n",
       "      <td>773.0</td>\n",
       "      <td>602</td>\n",
       "      <td>1.284053</td>\n",
       "      <td>CWS</td>\n",
       "    </tr>\n",
       "    <tr>\n",
       "      <th>1</th>\n",
       "      <td>abreujo02</td>\n",
       "      <td>2016</td>\n",
       "      <td>CHA</td>\n",
       "      <td>159</td>\n",
       "      <td>624</td>\n",
       "      <td>67</td>\n",
       "      <td>183</td>\n",
       "      <td>100.0</td>\n",
       "      <td>47</td>\n",
       "      <td>15.0</td>\n",
       "      <td>32</td>\n",
       "      <td>1</td>\n",
       "      <td>25</td>\n",
       "      <td>0.293269</td>\n",
       "      <td>0.357143</td>\n",
       "      <td>547989</td>\n",
       "      <td>788.0</td>\n",
       "      <td>610</td>\n",
       "      <td>1.291803</td>\n",
       "      <td>CWS</td>\n",
       "    </tr>\n",
       "    <tr>\n",
       "      <th>2</th>\n",
       "      <td>abreujo02</td>\n",
       "      <td>2017</td>\n",
       "      <td>CHA</td>\n",
       "      <td>156</td>\n",
       "      <td>621</td>\n",
       "      <td>95</td>\n",
       "      <td>189</td>\n",
       "      <td>102.0</td>\n",
       "      <td>35</td>\n",
       "      <td>15.0</td>\n",
       "      <td>43</td>\n",
       "      <td>6</td>\n",
       "      <td>33</td>\n",
       "      <td>0.304348</td>\n",
       "      <td>0.356185</td>\n",
       "      <td>547989</td>\n",
       "      <td>837.0</td>\n",
       "      <td>613</td>\n",
       "      <td>1.365416</td>\n",
       "      <td>CWS</td>\n",
       "    </tr>\n",
       "    <tr>\n",
       "      <th>3</th>\n",
       "      <td>abreujo02</td>\n",
       "      <td>2018</td>\n",
       "      <td>CHA</td>\n",
       "      <td>128</td>\n",
       "      <td>499</td>\n",
       "      <td>68</td>\n",
       "      <td>132</td>\n",
       "      <td>78.0</td>\n",
       "      <td>37</td>\n",
       "      <td>11.0</td>\n",
       "      <td>36</td>\n",
       "      <td>1</td>\n",
       "      <td>22</td>\n",
       "      <td>0.264529</td>\n",
       "      <td>0.329068</td>\n",
       "      <td>547989</td>\n",
       "      <td>631.0</td>\n",
       "      <td>490</td>\n",
       "      <td>1.287755</td>\n",
       "      <td>CWS</td>\n",
       "    </tr>\n",
       "    <tr>\n",
       "      <th>4</th>\n",
       "      <td>ackledu01</td>\n",
       "      <td>2015</td>\n",
       "      <td>SEA</td>\n",
       "      <td>85</td>\n",
       "      <td>186</td>\n",
       "      <td>22</td>\n",
       "      <td>40</td>\n",
       "      <td>19.0</td>\n",
       "      <td>14</td>\n",
       "      <td>1.0</td>\n",
       "      <td>8</td>\n",
       "      <td>1</td>\n",
       "      <td>6</td>\n",
       "      <td>0.215054</td>\n",
       "      <td>0.273632</td>\n",
       "      <td>554429</td>\n",
       "      <td>289.0</td>\n",
       "      <td>235</td>\n",
       "      <td>1.229787</td>\n",
       "      <td>NYY</td>\n",
       "    </tr>\n",
       "  </tbody>\n",
       "</table>\n",
       "</div>"
      ],
      "text/plain": [
       "    playerID  yearID teamID    G   AB   R    H    RBI  BB   HBP  2B  3B  HR  \\\n",
       "0  abreujo02    2015    CHA  154  613  88  178  101.0  39  15.0  34   3  30   \n",
       "1  abreujo02    2016    CHA  159  624  67  183  100.0  47  15.0  32   1  25   \n",
       "2  abreujo02    2017    CHA  156  621  95  189  102.0  35  15.0  43   6  33   \n",
       "3  abreujo02    2018    CHA  128  499  68  132   78.0  37  11.0  36   1  22   \n",
       "4  ackledu01    2015    SEA   85  186  22   40   19.0  14   1.0   8   1   6   \n",
       "\n",
       "         BA       OBP  batter     WH  AB_1-9      IABA team  \n",
       "0  0.290375  0.347826  547989  773.0     602  1.284053  CWS  \n",
       "1  0.293269  0.357143  547989  788.0     610  1.291803  CWS  \n",
       "2  0.304348  0.356185  547989  837.0     613  1.365416  CWS  \n",
       "3  0.264529  0.329068  547989  631.0     490  1.287755  CWS  \n",
       "4  0.215054  0.273632  554429  289.0     235  1.229787  NYY  "
      ]
     },
     "execution_count": 35,
     "metadata": {},
     "output_type": "execute_result"
    }
   ],
   "source": [
    "b = pd.merge(b, unique, on=['batter', 'yearID'], how='inner')\n",
    "b = b.rename(index=str, columns={\"AB_x\": \"AB\", \"AB_y\": \"AB_1-9\"})\n",
    "b.head()"
   ]
  },
  {
   "cell_type": "code",
   "execution_count": 36,
   "metadata": {},
   "outputs": [
    {
     "data": {
      "text/plain": [
       "0.43233396320300904"
      ]
     },
     "execution_count": 36,
     "metadata": {},
     "output_type": "execute_result"
    }
   ],
   "source": [
    "b[\"OBP\"].corr(b[\"IABA\"], method='pearson')"
   ]
  },
  {
   "cell_type": "code",
   "execution_count": null,
   "metadata": {},
   "outputs": [],
   "source": [
    "# df = b.to_csv(\"batter_merged.csv\")"
   ]
  },
  {
   "cell_type": "code",
   "execution_count": 37,
   "metadata": {},
   "outputs": [
    {
     "data": {
      "text/html": [
       "<div>\n",
       "<style scoped>\n",
       "    .dataframe tbody tr th:only-of-type {\n",
       "        vertical-align: middle;\n",
       "    }\n",
       "\n",
       "    .dataframe tbody tr th {\n",
       "        vertical-align: top;\n",
       "    }\n",
       "\n",
       "    .dataframe thead th {\n",
       "        text-align: right;\n",
       "    }\n",
       "</style>\n",
       "<table border=\"1\" class=\"dataframe\">\n",
       "  <thead>\n",
       "    <tr style=\"text-align: right;\">\n",
       "      <th></th>\n",
       "      <th>teamID</th>\n",
       "      <th>yearID</th>\n",
       "      <th>WH</th>\n",
       "      <th>AB_1-9</th>\n",
       "      <th>IABA</th>\n",
       "    </tr>\n",
       "  </thead>\n",
       "  <tbody>\n",
       "    <tr>\n",
       "      <th>0</th>\n",
       "      <td>ARI</td>\n",
       "      <td>2015</td>\n",
       "      <td>8068.0</td>\n",
       "      <td>6442</td>\n",
       "      <td>1.252406</td>\n",
       "    </tr>\n",
       "    <tr>\n",
       "      <th>1</th>\n",
       "      <td>ARI</td>\n",
       "      <td>2016</td>\n",
       "      <td>6331.0</td>\n",
       "      <td>4722</td>\n",
       "      <td>1.340745</td>\n",
       "    </tr>\n",
       "    <tr>\n",
       "      <th>2</th>\n",
       "      <td>ARI</td>\n",
       "      <td>2017</td>\n",
       "      <td>7216.0</td>\n",
       "      <td>5636</td>\n",
       "      <td>1.280341</td>\n",
       "    </tr>\n",
       "    <tr>\n",
       "      <th>3</th>\n",
       "      <td>ARI</td>\n",
       "      <td>2018</td>\n",
       "      <td>7033.0</td>\n",
       "      <td>5898</td>\n",
       "      <td>1.192438</td>\n",
       "    </tr>\n",
       "    <tr>\n",
       "      <th>4</th>\n",
       "      <td>ATL</td>\n",
       "      <td>2015</td>\n",
       "      <td>8617.0</td>\n",
       "      <td>6893</td>\n",
       "      <td>1.250109</td>\n",
       "    </tr>\n",
       "  </tbody>\n",
       "</table>\n",
       "</div>"
      ],
      "text/plain": [
       "  teamID  yearID      WH  AB_1-9      IABA\n",
       "0    ARI    2015  8068.0    6442  1.252406\n",
       "1    ARI    2016  6331.0    4722  1.340745\n",
       "2    ARI    2017  7216.0    5636  1.280341\n",
       "3    ARI    2018  7033.0    5898  1.192438\n",
       "4    ATL    2015  8617.0    6893  1.250109"
      ]
     },
     "execution_count": 37,
     "metadata": {},
     "output_type": "execute_result"
    }
   ],
   "source": [
    "t = b.groupby(['teamID', 'yearID']).agg({'WH':'sum', 'AB_1-9':'sum'})\n",
    "t = t.reset_index()\n",
    "t['IABA'] = t['WH']/t['AB_1-9']\n",
    "t.head()"
   ]
  },
  {
   "cell_type": "code",
   "execution_count": 38,
   "metadata": {},
   "outputs": [],
   "source": [
    "full_team = pd.merge(teams,t, on=['teamID', 'yearID'], how='inner' )\n",
    "full_team.head()\n",
    "full_team.to_csv(\"team_iaba.csv\")"
   ]
  },
  {
   "cell_type": "code",
   "execution_count": 39,
   "metadata": {},
   "outputs": [
    {
     "data": {
      "text/plain": [
       "0.42632891596017136"
      ]
     },
     "execution_count": 39,
     "metadata": {},
     "output_type": "execute_result"
    }
   ],
   "source": [
    "full_team[\"AB\"].corr(full_team[\"IABA\"], method='pearson')"
   ]
  },
  {
   "cell_type": "markdown",
   "metadata": {},
   "source": [
    "# IABA Correlations With Offensive Statistics"
   ]
  },
  {
   "cell_type": "markdown",
   "metadata": {},
   "source": [
    "The way we can approach this is calculate per player/per year view of IABA. Merge this DF with\n",
    "the the player IABA and then calculate the correlations via pearson statistics.\n",
    "The statistics we are interested in are OBP (already calculated above) and OPS."
   ]
  },
  {
   "cell_type": "code",
   "execution_count": 40,
   "metadata": {},
   "outputs": [],
   "source": [
    "lahman_batter['S'] = lahman_batter['H'] - lahman_batter['HR'] - lahman_batter['2B'] - lahman_batter['3B']\n",
    "def slg_calculation(row):\n",
    "    return ((row['S'] + 2 * row['2B'] + 3 * row['3B'] + 4 * row['HR'])/(row['AB']))\n",
    "def obp_calculation(row):\n",
    "    return (row['H']+row['BB']+row['HBP'])/(row['AB']+row['BB']+row['HBP'])\n",
    "\n",
    "lahman_batter['SLG'] = lahman_batter.apply(slg_calculation, axis=1)\n",
    "lahman_batter['OBP'] = lahman_batter.apply(obp_calculation, axis=1)\n",
    "lahman_batter['OPS'] = lahman_batter['OBP'] + lahman_batter['SLG']"
   ]
  },
  {
   "cell_type": "code",
   "execution_count": 41,
   "metadata": {},
   "outputs": [
    {
     "name": "stdout",
     "output_type": "stream",
     "text": [
      "Gathering player lookup table. This may take a moment.\n"
     ]
    }
   ],
   "source": [
    "names = playerid_reverse_lookup(lahman_batter['playerID'], 'bbref')\n",
    "names['key_mlbam'] = names['key_mlbam'].astype(\"Float64\")\n",
    "batter_iaba = batter_iaba.reset_index()\n",
    "batter_iaba['batter'] = batter_iaba['batter'].astype(\"Float64\")\n",
    "batter_iaba_merged_with_playerinfo = pd.merge(names, batter_iaba, left_on='key_mlbam', right_on='batter')"
   ]
  },
  {
   "cell_type": "code",
   "execution_count": 42,
   "metadata": {},
   "outputs": [],
   "source": [
    "batter_iaba_merged_with_playerinfo['game_year'] = batter_iaba_merged_with_playerinfo['game_year'].astype(\"Float64\")\n",
    "lahman_batter['yearID'] = lahman_batter['yearID'].astype(\"Float64\")\n",
    "merged_iaba = batter_iaba_merged_with_playerinfo.merge(lahman_batter, left_on=['game_year','key_bbref'], right_on=['yearID','playerID'])"
   ]
  },
  {
   "cell_type": "markdown",
   "metadata": {},
   "source": [
    "### Correlation between IABA and OBP/OPS"
   ]
  },
  {
   "cell_type": "code",
   "execution_count": 43,
   "metadata": {},
   "outputs": [],
   "source": [
    "# corr_between_ops_and_iaba = merged_iaba['IABA'].corr(merged_iaba['OPS']) \n",
    "corr_between_obp_and_iaba = pearsonr(merged_iaba['OBP'], merged_iaba['IABA'])\n",
    "corr_between_ops_and_iaba = pearsonr(merged_iaba['IABA'], merged_iaba['OPS'])"
   ]
  },
  {
   "cell_type": "code",
   "execution_count": 44,
   "metadata": {},
   "outputs": [
    {
     "name": "stdout",
     "output_type": "stream",
     "text": [
      "The correlation between IABA and OPS is 0.4472021248079238 with a p-value of 5.675155491600669e-72\n",
      "The correlation between IABA and OBP is 0.46673904191644827 with a p-value of 4.5996568389469993e-79\n"
     ]
    }
   ],
   "source": [
    "print(\"The correlation between IABA and OPS is {} with a p-value of {}\".format(corr_between_ops_and_iaba[0],corr_between_ops_and_iaba[1]))\n",
    "print(\"The correlation between IABA and OBP is {} with a p-value of {}\".format(corr_between_obp_and_iaba[0], corr_between_obp_and_iaba[1]))"
   ]
  },
  {
   "cell_type": "markdown",
   "metadata": {},
   "source": [
    "Since the pearson p-value represents the probability that the given result or a more extreme result would be found \n",
    "under the null hypothesis that the correlation coefficient is 0, we reject the null hypothesis. There is a\n",
    "moderately positive correlation between IABA and OPS/OBP."
   ]
  },
  {
   "cell_type": "code",
   "execution_count": 45,
   "metadata": {},
   "outputs": [],
   "source": [
    "'''\n",
    "Some cleanup for batter_data, so we can get the names\n",
    "along with how many hits they scored per inning.\n",
    "'''\n",
    "batter_data['batter'] = batter_data['batter'].astype(\"Float64\")\n",
    "batter_data = batter_data.merge(names[['name_first', 'name_last', 'key_mlbam']], left_on='batter', right_on='key_mlbam')\n",
    "#batter_data.to_csv('batter_data.csv')"
   ]
  },
  {
   "cell_type": "markdown",
   "metadata": {},
   "source": [
    "### Correlation between IABA and Team Wins"
   ]
  },
  {
   "cell_type": "code",
   "execution_count": 46,
   "metadata": {},
   "outputs": [
    {
     "name": "stdout",
     "output_type": "stream",
     "text": [
      "The correlation between team IABA and the wins for that team is 0.11882304538122929 with a p-value of 0.1961488642999242\n"
     ]
    }
   ],
   "source": [
    "#Team Correlation\n",
    "team_correlation_iaba_wins = pearsonr(full_team['IABA'], full_team['W'])\n",
    "print(\"The correlation between team IABA and the wins for that team is {} with a p-value of {}\".format(team_correlation_iaba_wins[0], team_correlation_iaba_wins[1]))"
   ]
  },
  {
   "cell_type": "markdown",
   "metadata": {},
   "source": [
    "We fail to reject the null that the correlation coefficient is 0 when holding the p-value to a significance level of 0.05. We don't have sufficient evidence to say that the relationship between team wins and team IABA is significant."
   ]
  },
  {
   "cell_type": "markdown",
   "metadata": {},
   "source": [
    "### Correlation between IABA and Baseball Reference War Stats"
   ]
  },
  {
   "cell_type": "code",
   "execution_count": 47,
   "metadata": {},
   "outputs": [],
   "source": [
    "batting_war_stats = bwar_bat()"
   ]
  },
  {
   "cell_type": "code",
   "execution_count": 48,
   "metadata": {},
   "outputs": [],
   "source": [
    "#Merge war stats with merged_iaba players.\n",
    "relevant_war_stats = merged_iaba.merge(batting_war_stats, left_on=['key_mlbam', 'yearID'], right_on=['mlb_ID', 'year_ID'])\n",
    "#relevant_war_stats.to_csv(\"iaba_with_war.csv\")"
   ]
  },
  {
   "cell_type": "code",
   "execution_count": 49,
   "metadata": {},
   "outputs": [
    {
     "name": "stdout",
     "output_type": "stream",
     "text": [
      "The correlation between iaba and baseball reference war is 0.34727003401060763 at a p-val of 4.279123724009032e-50\n"
     ]
    }
   ],
   "source": [
    "corr_between_iaba_with_war = pearsonr(relevant_war_stats['IABA'], relevant_war_stats['WAR'])\n",
    "print(\"The correlation between iaba and baseball reference war is {} at a p-val of {}\".format(corr_between_iaba_with_war[0], corr_between_iaba_with_war[1]))"
   ]
  },
  {
   "cell_type": "markdown",
   "metadata": {},
   "source": [
    "### Correlation between IABA and normal BA (As a Sanity check on our calculation)"
   ]
  },
  {
   "cell_type": "code",
   "execution_count": 50,
   "metadata": {},
   "outputs": [
    {
     "name": "stdout",
     "output_type": "stream",
     "text": [
      "The correlation between iaba and batting average is 0.7298994411504203 at a p-val of 1.0874030770893327e-240\n"
     ]
    }
   ],
   "source": [
    "corr_between_ba_and_iaba = pearsonr(merged_iaba['BA'],merged_iaba['IABA'])\n",
    "print(\"The correlation between iaba and batting average is {} at a p-val of {}\".format(corr_between_ba_and_iaba[0],corr_between_ba_and_iaba[1] ))\n"
   ]
  },
  {
   "cell_type": "markdown",
   "metadata": {},
   "source": [
    "Of course there should be a strong, positive correlation between IABA and BA since IABA is just an extension on normal BA which emphasizes hits in latter innings. This doesn't really tell us too much, but is useful to ensure our calculation of IABA is reasonable."
   ]
  },
  {
   "cell_type": "code",
   "execution_count": 52,
   "metadata": {},
   "outputs": [
    {
     "data": {
      "text/plain": [
       "<matplotlib.axes._subplots.AxesSubplot at 0x7f34249cd2b0>"
      ]
     },
     "execution_count": 52,
     "metadata": {},
     "output_type": "execute_result"
    },
    {
     "data": {
      "image/png": "[encoded data removed]",
      "text/plain": [
       "<Figure size 432x288 with 1 Axes>"
      ]
     },
     "metadata": {},
     "output_type": "display_data"
    }
   ],
   "source": [
    "hist = b['IABA'].hist()\n",
    "hist"
   ]
  },
  {
   "cell_type": "code",
   "execution_count": 65,
   "metadata": {},
   "outputs": [
    {
     "data": {
      "text/plain": [
       "(1.2348712596269367, 1.2487304481967183)"
      ]
     },
     "execution_count": 65,
     "metadata": {},
     "output_type": "execute_result"
    }
   ],
   "source": [
    "import numpy as np, scipy.stats as st\n",
    "\n",
    "st.t.interval(0.95, len(b['IABA'])-1, loc=np.mean(b['IABA']), scale=st.sem(b['IABA']))"
   ]
  },
  {
   "cell_type": "code",
   "execution_count": 56,
   "metadata": {},
   "outputs": [
    {
     "data": {
      "text/plain": [
       "0.021575468042173224"
      ]
     },
     "execution_count": 56,
     "metadata": {},
     "output_type": "execute_result"
    }
   ],
   "source": [
    "b['IABA'].var()"
   ]
  },
  {
   "cell_type": "code",
   "execution_count": 57,
   "metadata": {},
   "outputs": [
    {
     "data": {
      "text/plain": [
       "count    1726.000000\n",
       "mean        1.241801\n",
       "std         0.146886\n",
       "min         0.738095\n",
       "25%         1.151294\n",
       "50%         1.252759\n",
       "75%         1.343546\n",
       "max         1.879245\n",
       "Name: IABA, dtype: float64"
      ]
     },
     "execution_count": 57,
     "metadata": {},
     "output_type": "execute_result"
    }
   ],
   "source": [
    "b['IABA'].describe()"
   ]
  },
  {
   "cell_type": "code",
   "execution_count": 58,
   "metadata": {},
   "outputs": [
    {
     "data": {
      "text/plain": [
       "<matplotlib.axes._subplots.AxesSubplot at 0x7f3428816f98>"
      ]
     },
     "execution_count": 58,
     "metadata": {},
     "output_type": "execute_result"
    },
    {
     "data": {
      "image/png": "[encoded data removed]",
      "text/plain": [
       "<Figure size 432x288 with 1 Axes>"
      ]
     },
     "metadata": {},
     "output_type": "display_data"
    }
   ],
   "source": [
    "hist = b['BA'].hist()\n",
    "hist"
   ]
  }
 ],
 "metadata": {
  "kernelspec": {
   "display_name": "Python 3",
   "language": "python",
   "name": "python3"
  },
  "language_info": {
   "codemirror_mode": {
    "name": "ipython",
    "version": 3
   },
   "file_extension": ".py",
   "mimetype": "text/x-python",
   "name": "python",
   "nbconvert_exporter": "python",
   "pygments_lexer": "ipython3",
   "version": "3.6.5"
  }
 },
 "nbformat": 4,
 "nbformat_minor": 2
}
